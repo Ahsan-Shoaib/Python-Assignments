{
 "cells": [
  {
   "cell_type": "markdown",
   "id": "0728a014-ac5e-4991-85cc-0c07f06320b3",
   "metadata": {},
   "source": [
    "# QUESION 01"
   ]
  },
  {
   "cell_type": "code",
   "execution_count": 1,
   "id": "d83acf1c-606c-4afc-9835-e79a5132cfb1",
   "metadata": {},
   "outputs": [
    {
     "name": "stdout",
     "output_type": "stream",
     "text": [
      "\n",
      "* \n",
      "* * \n",
      "* * * \n",
      "* * * * \n",
      "* * * * * \n",
      "* * * * \n",
      "* * * \n",
      "* * \n",
      "* \n"
     ]
    }
   ],
   "source": [
    "for row in range(5):\n",
    "    for col in range(row):\n",
    "        print('*', end=' ')\n",
    "    print() \n",
    "for row in range(5,0,-1):\n",
    "    for col in range(row):\n",
    "        print('*', end=' ')\n",
    "    print()"
   ]
  },
  {
   "cell_type": "markdown",
   "id": "83b6bee9-5673-4fef-9062-bfe9f0d45a17",
   "metadata": {},
   "source": [
    "# QUESTION 02"
   ]
  },
  {
   "cell_type": "code",
   "execution_count": 2,
   "id": "3984f11b-b7be-4b88-9ddf-5837e3c2f594",
   "metadata": {},
   "outputs": [],
   "source": [
    "vowel = 'AEIOUaeiou'\n",
    "\n",
    "letter = input('Enter an Alphabet: ')\n",
    "\n",
    "if letter in vowel:\n",
    "    print('Alphabet you entered is vowel')\n",
    "else:\n",
    "    print('Alphabet you entered is consonant')"
   ]
  },
  {
   "cell_type": "markdown",
   "id": "6b972408-d5cb-4f1d-8d71-fa0e26b0f609",
   "metadata": {},
   "source": [
    "# QUESTION 03"
   ]
  },
  {
   "cell_type": "code",
   "execution_count": 3,
   "id": "9e239c07-675f-4d06-be83-7da2bb91ceb7",
   "metadata": {},
   "outputs": [],
   "source": [
    "number = int(input(\"Input a number: \"))\n",
    "\n",
    "for x in range(1,11):\n",
    "    result = number * x\n",
    "    print(f\"{number} * {x} = {result}\")"
   ]
  },
  {
   "cell_type": "markdown",
   "id": "a2455e7a-211c-4a59-9973-24e00991877a",
   "metadata": {},
   "source": [
    "# QUESTIN 04"
   ]
  },
  {
   "cell_type": "code",
   "execution_count": 4,
   "id": "05439aa4-b795-459d-a152-beead136537c",
   "metadata": {},
   "outputs": [],
   "source": [
    "import random\n",
    "\n",
    "target_number = random.randint(1, 9)\n",
    "\n",
    "while True:\n",
    "\n",
    "    guess = int(input(\"Guess a number between 1 and 9: \"))\n",
    "    \n",
    "\n",
    "    if guess == target_number:\n",
    "        print(\"Well guessed!\")\n",
    "        break \n",
    "    else:\n",
    "        print(\"Wrong guess. Try again!\")"
   ]
  },
  {
   "cell_type": "markdown",
   "id": "ab5b5215-7f5e-4154-8f10-a0765accb7ee",
   "metadata": {},
   "source": [
    "# QUESTIN 05"
   ]
  },
  {
   "cell_type": "code",
   "execution_count": 15,
   "id": "6772b27b-f5c1-4ffe-8a90-0c8dc15fec21",
   "metadata": {},
   "outputs": [
    {
     "name": "stdout",
     "output_type": "stream",
     "text": [
      "Filtered Students:\n",
      "Ahsan: Height = 5.7, Width = 1.6\n",
      "Danish: Height = 5.9, Width = 1.7\n"
     ]
    }
   ],
   "source": [
    "def filter_students_by_height_and_width(students, min_height, max_height, min_width, max_width):\n",
    "    \"\"\"\n",
    "    Filters students based on their height and width.\n",
    "\n",
    "    Args:\n",
    "        students (dict): Dictionary where keys are student names and values are dictionaries with 'height' and 'width'.\n",
    "        min_height (float): Minimum height to include.\n",
    "        max_height (float): Maximum height to include.\n",
    "        min_width (float): Minimum width to include.\n",
    "        max_width (float): Maximum width to include.\n",
    "\n",
    "    Returns:\n",
    "        dict: Dictionary of students that meet the height and width criteria.\n",
    "    \"\"\"\n",
    "    filtered_students = {}\n",
    "    \n",
    "    for name, attributes in students.items():\n",
    "        height = attributes.get('height')\n",
    "        width = attributes.get('width')\n",
    "        \n",
    "        if (height is not None and width is not None and\n",
    "            min_height <= height <= max_height and\n",
    "            min_width <= width <= max_width):\n",
    "            filtered_students[name] = attributes\n",
    "    \n",
    "    return filtered_students\n",
    "\n",
    "students = {\n",
    "    'Ali': {'height': 5.4, 'width': 1.5},\n",
    "    'Binish': {'height': 6.1, 'width': 1.8},\n",
    "    'Ahsan': {'height': 5.7, 'width': 1.6},\n",
    "    'Danish': {'height': 5.9, 'width': 1.7}\n",
    "}\n",
    "\n",
    "min_height = 5.5\n",
    "max_height = 6.0\n",
    "min_width = 1.6\n",
    "max_width = 1.8\n",
    "\n",
    "filtered_students = filter_students_by_height_and_width(students, min_height, max_height, min_width, max_width)\n",
    "\n",
    "print(\"Filtered Students:\")\n",
    "for name, attributes in filtered_students.items():\n",
    "    print(f\"{name}: Height = {attributes['height']}, Width = {attributes['width']}\")"
   ]
  },
  {
   "cell_type": "markdown",
   "id": "98272094-2392-4fca-b404-170016955165",
   "metadata": {},
   "source": [
    "# QUESTION 06"
   ]
  },
  {
   "cell_type": "code",
   "execution_count": 17,
   "id": "66b30398-d84b-465a-96cb-4aa509575491",
   "metadata": {},
   "outputs": [
    {
     "name": "stdout",
     "output_type": "stream",
     "text": [
      "Dictionary with cleared list values:\n",
      "{'C1': [], 'C2': [], 'C3': []}\n"
     ]
    }
   ],
   "source": [
    "def clear_list_values(d):\n",
    "    \"\"\"\n",
    "    Clears the list values in the given dictionary.\n",
    "\n",
    "    Args:\n",
    "        d (dict): Dictionary where values are lists.\n",
    "\n",
    "    Returns:\n",
    "        dict: Dictionary with list values cleared.\n",
    "    \"\"\"\n",
    "    for key in d:\n",
    "        d[key].clear()\n",
    "    return d\n",
    "\n",
    "original_dict = {'C1': [10, 20, 30], 'C2': [20, 30, 40], 'C3': [12, 34]}\n",
    "\n",
    "cleared_dict = clear_list_values(original_dict)\n",
    "\n",
    "print(\"Dictionary with cleared list values:\")\n",
    "print(cleared_dict)"
   ]
  },
  {
   "cell_type": "markdown",
   "id": "c734cca3-037b-429a-a922-b1936651abad",
   "metadata": {},
   "source": [
    "# QUESTION 07"
   ]
  },
  {
   "cell_type": "code",
   "execution_count": 19,
   "id": "bde5d913-8f86-4998-83ed-8ad5df94fd77",
   "metadata": {},
   "outputs": [
    {
     "name": "stdout",
     "output_type": "stream",
     "text": [
      "Rivers and the countries they run through:\n",
      "The Nile runs through Egypt.\n",
      "The Amazon runs through Brazil.\n",
      "The Yangtze runs through China.\n",
      "\n",
      "Rivers:\n",
      "Nile\n",
      "Amazon\n",
      "Yangtze\n",
      "\n",
      "Countries:\n",
      "Egypt\n",
      "Brazil\n",
      "China\n"
     ]
    }
   ],
   "source": [
    "rivers = {\n",
    "    'Nile': 'Egypt',\n",
    "    'Amazon': 'Brazil',\n",
    "    'Yangtze': 'China'\n",
    "}\n",
    "\n",
    "print(\"Rivers and the countries they run through:\")\n",
    "for river, country in rivers.items():\n",
    "    print(f\"The {river} runs through {country}.\")\n",
    "\n",
    "print(\"\\nRivers:\")\n",
    "for river in rivers.keys():\n",
    "    print(river)\n",
    "\n",
    "print(\"\\nCountries:\")\n",
    "for country in rivers.values():\n",
    "    print(country)"
   ]
  },
  {
   "cell_type": "markdown",
   "id": "caaa7cfd-db7d-4876-a732-1b9301b18ee8",
   "metadata": {},
   "source": [
    "# QUESTION 08"
   ]
  },
  {
   "cell_type": "code",
   "execution_count": 21,
   "id": "0096667e-f19c-4d34-bc87-679197037373",
   "metadata": {},
   "outputs": [
    {
     "name": "stdin",
     "output_type": "stream",
     "text": [
      "Please enter your age:  19\n"
     ]
    },
    {
     "name": "stdout",
     "output_type": "stream",
     "text": [
      "The cost of your movie ticket is $15.\n"
     ]
    },
    {
     "name": "stdin",
     "output_type": "stream",
     "text": [
      "Do you want to check another ticket? (yes/no):  yes\n",
      "Please enter your age:  19\n"
     ]
    },
    {
     "name": "stdout",
     "output_type": "stream",
     "text": [
      "The cost of your movie ticket is $15.\n"
     ]
    },
    {
     "name": "stdin",
     "output_type": "stream",
     "text": [
      "Do you want to check another ticket? (yes/no):  yes\n",
      "Please enter your age:  19\n"
     ]
    },
    {
     "name": "stdout",
     "output_type": "stream",
     "text": [
      "The cost of your movie ticket is $15.\n"
     ]
    },
    {
     "name": "stdin",
     "output_type": "stream",
     "text": [
      "Do you want to check another ticket? (yes/no):  no\n"
     ]
    },
    {
     "name": "stdout",
     "output_type": "stream",
     "text": [
      "Thank you for using the ticket pricing system.\n"
     ]
    }
   ],
   "source": [
    "def get_ticket_price(age):\n",
    "    \"\"\"\n",
    "    Determines the price of a movie ticket based on age.\n",
    "\n",
    "    Args:\n",
    "        age (int): The age of the person.\n",
    "\n",
    "    Returns:\n",
    "        int: The price of the movie ticket.\n",
    "    \"\"\"\n",
    "    if age < 3:\n",
    "        return 0\n",
    "    elif 3 <= age <= 12:\n",
    "        return 10\n",
    "    else:\n",
    "        return 15\n",
    "\n",
    "def main():\n",
    "    \"\"\"\n",
    "    Main function to interact with the user and determine the cost of movie tickets.\n",
    "    \"\"\"\n",
    "    while True:\n",
    "        try:\n",
    "            age = int(input(\"Please enter your age: \"))\n",
    "            \n",
    "            ticket_price = get_ticket_price(age)\n",
    "            \n",
    "            print(f\"The cost of your movie ticket is ${ticket_price}.\")\n",
    "            \n",
    "            another = input(\"Do you want to check another ticket? (yes/no): \").strip().lower()\n",
    "            if another != 'yes':\n",
    "                break\n",
    "        except ValueError:\n",
    "            print(\"Invalid input. Please enter a numeric age.\")\n",
    "    \n",
    "    print(\"Thank you for using the ticket pricing system.\")\n",
    "\n",
    "if __name__ == \"__main__\":\n",
    "    main()"
   ]
  },
  {
   "cell_type": "code",
   "execution_count": null,
   "id": "ca204197-d37f-4c14-aeae-345e76180921",
   "metadata": {},
   "outputs": [],
   "source": []
  }
 ],
 "metadata": {
  "kernelspec": {
   "display_name": "Python 3 (ipykernel)",
   "language": "python",
   "name": "python3"
  },
  "language_info": {
   "codemirror_mode": {
    "name": "ipython",
    "version": 3
   },
   "file_extension": ".py",
   "mimetype": "text/x-python",
   "name": "python",
   "nbconvert_exporter": "python",
   "pygments_lexer": "ipython3",
   "version": "3.12.4"
  }
 },
 "nbformat": 4,
 "nbformat_minor": 5
}
